{
 "cells": [
  {
   "attachments": {},
   "cell_type": "markdown",
   "metadata": {},
   "source": [
    "# Exercises for Module 1: Intro to Python\n",
    "\n",
    "This set of exercises works through some basic python functionality. Just a note that we have used some functions from a module called numpy to create the exercises, but nothing you write should need it although you can use it if you'd like. We'll be learning more about numpy in the next module."
   ]
  },
  {
   "cell_type": "code",
   "execution_count": 2,
   "metadata": {},
   "outputs": [],
   "source": [
    "import numpy as np"
   ]
  },
  {
   "attachments": {},
   "cell_type": "markdown",
   "metadata": {},
   "source": [
    "#### 1.) Write code to translate a boolean value to a string. Specifically, if the `testval` is `True` then print \"Yes\" and if it is `False` then print \"No\"\n"
   ]
  },
  {
   "cell_type": "code",
   "execution_count": 8,
   "metadata": {},
   "outputs": [
    {
     "name": "stdout",
     "output_type": "stream",
     "text": [
      "False\n",
      "No\n",
      "no\n"
     ]
    }
   ],
   "source": [
    "testval = bool(np.random.choice([0, 1]))\n",
    "print (testval)\n",
    "str(testval)\n",
    "\n",
    "if testval == True:\n",
    "    print ('yes')\n",
    "else:\n",
    "    print (\"No\")\n",
    "\n",
    "\n",
    "if testval is True:\n",
    "    print('yes')\n",
    "else:\n",
    "    print('no')"
   ]
  },
  {
   "attachments": {},
   "cell_type": "markdown",
   "metadata": {},
   "source": [
    "\n",
    "#### 2.) You will be given a random integer, and your goal is to return the same value, but as a negative number. Notice, the number you are given may already be negative"
   ]
  },
  {
   "cell_type": "code",
   "execution_count": 17,
   "metadata": {},
   "outputs": [
    {
     "name": "stdout",
     "output_type": "stream",
     "text": [
      "-91 -91\n",
      "-91\n"
     ]
    }
   ],
   "source": [
    "\n",
    "testval = np.random.randint(-100, 100)\n",
    "\n",
    "# Force the number to always be negative\n",
    "negval = -abs(testval)\n",
    "\n",
    "print(testval, negval)\n",
    "\n",
    "if testval<0:\n",
    "    print(testval)\n",
    "else:\n",
    "    negval = -1 * testval\n",
    "    print(negval)\n"
   ]
  },
  {
   "attachments": {},
   "cell_type": "markdown",
   "metadata": {},
   "source": [
    "#### 3.) Given a list of random integers, return them sorted from low to high. \n",
    "NOTE: I do not want you to write your own sorting algorithm, but want you to look up how to do this using the python standard library"
   ]
  },
  {
   "cell_type": "code",
   "execution_count": 26,
   "metadata": {},
   "outputs": [
    {
     "name": "stdout",
     "output_type": "stream",
     "text": [
      "[-98 -89 -81 -76 -17  -1  12  34  67  95]\n"
     ]
    }
   ],
   "source": [
    "random_vals = np.random.randint(-100, 100, 10)\n",
    "sorted_vals=np.sort(random_vals)\n",
    "print(sorted_vals)\n",
    "\n"
   ]
  },
  {
   "attachments": {},
   "cell_type": "markdown",
   "metadata": {},
   "source": [
    "\n",
    "#### 4.) Given a list of US locations with the format: \"CityName, StateAbbrev\" filter out any that are not in Arizona (AZ).\n"
   ]
  },
  {
   "cell_type": "code",
   "execution_count": 51,
   "metadata": {},
   "outputs": [
    {
     "name": "stdout",
     "output_type": "stream",
     "text": [
      "['Kingman, AZ', 'Bisbee, AZ']\n",
      "['Kingman, AZ', 'Bisbee, AZ']\n"
     ]
    }
   ],
   "source": [
    "city_list = [\n",
    "    \"New York, NY\",\n",
    "    \"Chattanooga, TN\",\n",
    "    \"Hobart, MN\",\n",
    "    \"Kingman, AZ\",\n",
    "    \"Yachats, OR\",\n",
    "    \"Bisbee, AZ\",\n",
    "    \"Muskogee, OK\"\n",
    "]\n",
    "# Keep only cities in Arizona\n",
    "az_list = [city for city in city_list if city.endswith(\"AZ\")]\n",
    "\n",
    "\n",
    "print(az_list)\n",
    "\n",
    "\n",
    "\n",
    "\n",
    "az_list = []\n",
    "for x in city_list: \n",
    "    if x.endswith('AZ'): \n",
    "        az_list.append(x)\n",
    "print(az_list)\n"
   ]
  },
  {
   "attachments": {},
   "cell_type": "markdown",
   "metadata": {},
   "source": [
    "\n",
    "#### 5.) The following code doesn't work - can you fix it?"
   ]
  },
  {
   "cell_type": "code",
   "execution_count": null,
   "metadata": {},
   "outputs": [],
   "source": [
    "def multiply(a, b):\n",
    "    # TODO: Your code in here\n",
    "    a * b\n",
    "\n",
    "print(multiply(5, 10))"
   ]
  },
  {
   "attachments": {},
   "cell_type": "markdown",
   "metadata": {},
   "source": [
    "#### 6.) Time for a coding interview classic, FizzBuzz\n",
    "The rules of the game:\n",
    " - print numbers from 1 to 100\n",
    " - if the number is divisible by 3 print \"Fizz\"\n",
    " - if the number is divisible by 5 print \"Buzz\"\n",
    " - if the number is divisible by both 3 and 5 print \"FizzBuzz\"\n",
    " - otherwise, print the number\n",
    "\n"
   ]
  },
  {
   "cell_type": "code",
   "execution_count": null,
   "metadata": {},
   "outputs": [],
   "source": [
    "testvals = np.arange(1, 101)\n",
    "#TODO: Your code here\n",
    "# ...\n",
    "for v in testvals:\n",
    "    print('NONE')\n",
    "\n"
   ]
  },
  {
   "attachments": {},
   "cell_type": "markdown",
   "metadata": {},
   "source": [
    "#### 7.) Write a function that takes a list of numbers and returns the mean (average) of the list"
   ]
  },
  {
   "cell_type": "code",
   "execution_count": null,
   "metadata": {},
   "outputs": [],
   "source": [
    "testvals = [1,2,3,4,5,6,7,8,9,10]\n",
    "\n",
    "def average(vals):\n",
    "    #TODO: your code here\n",
    "    pass\n",
    "\n",
    "print(average(testvals))"
   ]
  }
 ],
 "metadata": {
  "kernelspec": {
   "display_name": "has-tools (3.11.13)",
   "language": "python",
   "name": "python3"
  },
  "language_info": {
   "codemirror_mode": {
    "name": "ipython",
    "version": 3
   },
   "file_extension": ".py",
   "mimetype": "text/x-python",
   "name": "python",
   "nbconvert_exporter": "python",
   "pygments_lexer": "ipython3",
   "version": "3.11.13"
  },
  "orig_nbformat": 4
 },
 "nbformat": 4,
 "nbformat_minor": 2
}
